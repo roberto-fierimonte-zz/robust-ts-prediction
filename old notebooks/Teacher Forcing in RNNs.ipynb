{
 "cells": [
  {
   "cell_type": "markdown",
   "metadata": {},
   "source": [
    "# Teacher Forcing in RNNs\n",
    "\n",
    "**Roberto Fierimonte** - 19/02/2018\n",
    "\n",
    "---"
   ]
  },
  {
   "cell_type": "markdown",
   "metadata": {},
   "source": [
    "## Motivation and Goal:\n",
    "\n",
    "### General:\n",
    "\n",
    "* Recurrent Neural Nets (RNNs) model a conditional distribution over tokens:\n",
    "\n",
    "$$ \n",
    "\\newcommand{\\given}{\\,\\big|\\,}\n",
    "p\\left(y_1, y_2, \\ldots, y_T\\right) = p\\left(y_1\\right)\\prod_{t=2}^T p\\left(y_t\\given y_1\\,,\\dots\\,, y_{t−1}\\right)\\,\n",
    "$$\n",
    "\n",
    "* Maximum Likelihood (ML) training of RNNs is currently implemented using so-called \"Teacher Forcing\" (TF). Namely, we feed the ground-truth tokens $\\mathbf{y}$ in the model to be conditioned on when generating the predicted outputs to be evaluated. If we don't do so, the sequence over which we condition on diverges from sequences seen during training and the errors can amplify exponentially\n",
    "\n",
    "* In some domains the sequences available at training time are shorter than the sequences that we want to generate at test time. Also, for problems in which the goal is prediction of values that are farther in time, TF is an approximation\n",
    "\n",
    "* When testing/performing inference, we don't feed the input sequence in the network, so at each time step the output is generated conditioning on the previous generated outputs (with the exception of the first token, which is usually some starting sequence identifier). This is inconsistent! \n",
    "\n",
    "* We refer to the mechanism opposed to TF as \"Free Running\". There are multiple variants of this approach used during inference, although usually only sampling is used during training:\n",
    "\n",
    "    * **Sampling**: at each time step we use a sample $\\hat{y}_t$ from $p\\left(y_t\\given \\hat{y}_1\\,,\\dots\\,, \\hat{y}_{t−1}\\right)$ and we add it to the conditioning set for $\\hat{y}_{t+1}$\n",
    "    <br>\n",
    "    * **Greedy**: at each time step we select $\\hat{y}_t = \\arg\\max_y p\\left(y_t\\given \\hat{y}_1\\,,\\dots\\,, \\hat{y}_{t−1}\\right)$\n",
    "    <br>\n",
    "    * **Beam search**: at each time step, we maintain a set of the $m$ \"most promising\" sentences. We expand each of them and we sort the results in term of joint probability. Finally we truncate them to retain those with higher probability\n",
    "\n",
    "### Specific to our problem (VAEs for text modelling):\n",
    "\n",
    "When generating a sentence $\\mathbf{y}$ we condition on a sample of the latent variable $\\mathbf{z}$, namely:\n",
    "\n",
    "$$\\log p\\left(\\mathbf{y}\\given\\mathbf{z};\\theta\\right) = \\sum_{t=1}^T\\log p\\left(y_t\\given y_1\\,,\\ldots\\,,y_{t-1}, \\mathbf{z};\\theta\\right)\\,,\n",
    "$$\n",
    "\n",
    "where we have:\n",
    "\n",
    "$$\n",
    "\\log p\\left(y_t\\given y_1\\,,\\ldots\\,,y_{t-1}, \\mathbf{z};\\theta\\right) = \\log p\\left(y_t\\given h_t\\right)\\,\n",
    "$$\n",
    "\n",
    "and:\n",
    "\n",
    "$$\n",
    "h_t = \n",
    "\\begin{cases} \n",
    "    f\\left(\\mathbf{z};\\theta\\right) & \\text{if } t=1\\\\ \n",
    "    f\\left(h_{t-1}, y_{t-1}; \\theta\\right) & \\text{otherwise}\\\\\n",
    "\\end{cases}\\,.\n",
    "$$\n",
    "\n",
    "The generation parameters $\\theta$ are optimised using ML training over mini-batches:\n",
    "\n",
    "$$\n",
    "\\theta^* = \\arg\\max_\\theta \\sum_{n=1}^N \\log p\\left(\\mathbf{y}^n\\given \\mathbf{z}^n;\\theta\\right)\\,.\n",
    "$$\n",
    "\n",
    "* Currently we use teacher forcing to train the langauge model. This makes the entire model too powerful to meaningfully use latents - needs for KL annealing and word drop procedures:\n",
    "\n",
    "    * KL annealing is implemented by gradually turning on the KL term in the ELBO during training (tackled by AutoGen training)\n",
    "    * Word drop is implemented by randomly dropping randomly and replacing some fraction of the conditioned-on word tokens with the generic unknown word token `<UNK>`\n",
    "\n",
    "* We consider the use of these procedures an artifact that invalidates the performance of the model itself\n",
    "\n",
    "Teacher-forcing affects the problem of Natural Language generation in more than one way: \n",
    "\n",
    "1. Textual data is naturally sparse. As soon as the conditional generation implemented using sampling mode deviates from a known sequence, the entire generation diverges\n",
    "\n",
    "2. For the same reason, when generating a text using TF, the latents are barely used (conditioning on the latents is barely helpful when the next word is well-specified by the sequence of the preceeding ones)\n",
    "\n",
    "We remark that image generation models (e.g. PixelRNN) are not reported to use this procedure while training (plus, they can use latents pretty well). We argue that this is due to the use of only local information in the generative model (so that the latents can contribute to capturing the global context)\n",
    "\n",
    "## State of the Art:\n",
    "\n",
    "### Teacher Forcing (Williams and Zipser, 1989)\n",
    "\n",
    "What we have described above, with all the positive and negative aspects.\n",
    "\n",
    "### Curriculum Learning (Bengio et al., 2015)\n",
    "\n",
    "The training process is re-designed in order to **gradually** force the model to deal with its own mistakes, as it would have to during inference.\n",
    "\n",
    "During training, at every time step $t$ we flip a biased coin. With probability $\\epsilon_t$ we use a token from the ground-truth $\\mathbf{y}$ (teacher forcing) and with probability $1 - \\epsilon_t$ we use the previously generated token $\\hat{y}_{t-1}$ (sampling mode).\n",
    "\n",
    "<figure>\n",
    "    <img src=\"./scheduled-sampling.png\" width=\"500\" />\n",
    "</figure>    \n",
    "\n",
    "Two extremes:\n",
    "1. $\\epsilon_t = 1\\,\\forall t$ is the teacher forcing approach\n",
    "2. $\\epsilon_t = 0\\,\\forall t$ is the sampling mode approach\n",
    "\n",
    "Idea: annealing $\\epsilon_t$ over time steps (**scheduled sampling**). Three options:\n",
    "\n",
    "1. Linear decay: $\\epsilon_t = \\max\\left(\\epsilon, k − c\\cdot t\\right)$, with $\\epsilon \\in (0,1)$, $k$ and $c$ parameters\n",
    "2. Exponential decay: $\\epsilon_t = k^t$, with $k < 1$ parameter \n",
    "3. Inverse sigmoid decay: $\\epsilon_t = \\dfrac{k}{k + \\exp\\left(\\dfrac{t}{k}\\right)}$, with $k\\geq 1$ parameter\n",
    "\n",
    "No error is back-propagated when samples $\\hat{y}_{t}$ are used for conditional generation. Sampling the previous token leads to a stochastic node in the computational graph for which the gradient cannot be computed directly. Will come to this point later.\n",
    "\n",
    "Without back-propagating the gradient through the samples the results of training are likely to be strongly degraded (and actually they are).\n",
    "\n",
    "### Professor Forcing (Goyal et al., 2016)\n",
    "\n",
    "**Adversarial approach**: a pair of twin RNNs (with shared parameters $\\theta_g$) output sentences using teacher forcing and sampling mode respectively. A **classifier** discriminates if the hidden states are generated by the first network or by the second one.\n",
    "\n",
    "<figure>\n",
    "    <img src=\"./professor-forcing.jpg\" width=\"600\" />\n",
    "</figure>\n",
    "\n",
    "The classifier/discriminator is a Bidirectional RNN with parameters $\\theta_d$ trained to maximise the likelihood of\n",
    "correctly classifying a behaviour sequence (chosen hidden states and output values):\n",
    "\n",
    "$$\n",
    "\\min_{\\theta_d}\\mathbb{E}_{(x, y)\\sim \\text{data}}\\left[− \\log D\\left(B\\left(x, y; \\theta_g\\right); \\theta_d\\right)\\right] + \\mathbb{E}_{x\\sim\\text{data}, y\\sim p_{\\theta_g}\\left(y| x\\right)}\n",
    "\\left[− \\log \\left(1 − D\\left( B \\left(x, y; \\theta_g\\right); \\theta_d\\right)\\right)\\right]\\,,\n",
    "$$\n",
    "\n",
    "where $D\\left(\\mathbf{s}\\right)$ is the discriminator function (i.e. the probability that the sequence $\\mathbf{s}$ is produced in teacher forcing mode) and $B$ is the behaviour sequence generator. The first term corresponds to the TF case while the second term corresponds to the sampling mode. Please notice that in our case, since we do not have different inputs/outputs, in the first term we simply have $x = y$.\n",
    "\n",
    "The two hidden layers of the discriminator (forward and backward RNN) are then concatenated at each time step and passed through a MLP, which outputs the discriminator function $D\\left(\\cdot\\right)$.\n",
    "\n",
    "The generator is an RNN trained to maximise the likelihood of the data and contextually fool the discriminator:\n",
    "\n",
    "$$\n",
    "\\min_{\\theta_g}\\mathbb{E}_{(x,y)\\sim\\text{data}}\\left[− \\log p_{\\theta_g}\\left(y\\given x\\right)\\right]\n",
    "+\n",
    " \\mathbb{E}_{x\\sim\\text{data}, y\\sim p_{\\theta_g}\\left(y|x\\right)}\n",
    "\\left[− \\log D\\left(B\\left(x, y; \\theta_g\\right); \\theta_d\\right)\\right]\\,,\n",
    "$$\n",
    "\n",
    "where the first term is the negative log-likelihood (NLL) and the second term aims at maximising the probability of the sampling mode behaviour such that it matches the teacher force behaviour.\n",
    "\n",
    "Eventually we can ask the teacher force behavior to be indistinguishable from the sampling mode behavior:\n",
    "\n",
    "$$\n",
    "\\mathbb{E}_{(x,y)\\sim\\text{data}}\\left[− \\log\\left(1 − D\\left(B\\left(x, y; \\theta_g\\right); \\theta_d\\right)\\right)\\right].\n",
    "$$\n",
    "\n",
    "Practically, this is achieved with a variant of stochastic gradient descent with minibatches formed by combining $N$ sequences obtained in teacher forcing mode and $N$ sequences obtained in sampling mode.\n",
    "\n",
    "### Categorical Reparametrisation with Gumbel-Softmax (Jang et al., 2017)\n",
    "\n",
    "In the Curriculum Learning approach, there is no gradient back-propagated when the previous samples are used for conditional generation in the RNN (due to the stochasticity of the operation). This approach badly affect learning performance. We can overcome this problem by using a reparametrisation of the categorical distribution (equivalent concept of the Gaussian reparametrisation trick in VAEs).\n",
    "\n",
    "The Gumbel-Max trick (Gumbel, 1954) provides a way to draw samples $z$ from a categorical distribution with class probabilities $\\pi$:\n",
    "\n",
    "$$z = \\text{one hot}\\left(\\arg \\max_i\\left[g_i + \\log \\pi_i\\right]\\right)\\,,$$\n",
    "\n",
    "where $g_1,\\,\\ldots\\,,g_k$ are i.i.d samples drawn from the $\\text{Gumbel}(0, 1)$ distribution. \n",
    "\n",
    "$$\n",
    "g_1,\\,\\ldots\\,,g_k \\sim \\exp\\left\\{-\\left(g + \\exp\\{-g\\}\\right)\\right\\}\\,.\n",
    "$$\n",
    "\n",
    "Approximate samples $y$ are obtained by replacing the non-differentiable $\\arg \\max$ with a softmax function, returning:\n",
    "\n",
    "$$y_i = \\dfrac{\\exp\\left(g_i + \\log \\pi_i\\right)/\\tau}{\\sum_{j=1}^k \\exp\\left(g_j + \\log \\pi_j\\right)/\\tau}\\,\\forall i=1,\\,\\ldots,\\,k\\,.$$\n",
    "\n",
    "$\\tau$ is a temperature parameter. For learning, there is a tradeoff between small temperatures, where samples are close to one-hot but the variance of the gradients is large, and large temperatures, where samples are smooth but the variance of the gradients is small [cit].\n",
    "\n",
    "<img src=\"./gumbel-softmax.png\" width=\"600\" />\n",
    "\n",
    "The Gumbel-Softmax distribution is smooth for $\\tau > 0$, and therefore has a well-defined gradient with respect to $\\pi$. Thus, by replacing categorical samples with Gumbel-Softmax samples we can use backpropagation to compute the gradients with respect to the sampled words in an RNN trained without teacher-forcing.\n",
    "\n",
    "Notice that in the derivation of the samples $y_i$ we have used a continuous softmax function. If we want samples to be discrete (like in our case) we still apply the $\\arg \\max$ operator to $y_i$, but the gradient is approximated as: $$\\nabla_\\theta z \\approx \\nabla_\\theta y\\,.$$ In this case the estimator is known as Straight Trought (ST) Gumbel-Softmax.\n",
    "\n",
    "## Considerations and Next Steps:\n",
    "\n",
    "We argue that TF, despite the help provided during the training phase, is not a useful way to train a generative model for text if our objective is to incorporate meaningful latents. On the other side, pure training without TF leads to instability and low performance (experiments are in progress).\n",
    "\n",
    "Removing the TF procedure has been already found useful for other problems, and different solution has been proposed to solve the problem. A good initial result would be to remove the need for the word drop procedure in text-VAE. We also expect the role of the latents to change.\n",
    "\n",
    "The immediate next steps are:\n",
    "\n",
    "Short term:\n",
    "* Run experiment without TF and without any alternative algorithm\n",
    "* Run experiment using sampling mode on top of the results learned using TF (hard version of CL that completely switches off TF after a fixed iteration)\n",
    "* Run experiment using alternative algorithms (in particular CL and ST Gumbel-Softmax are easier to implement) \n",
    "\n",
    "Long term:\n",
    "* Re-formulate the problem in a way that sparsness of the data + training do not degrade the role of the latents"
   ]
  },
  {
   "cell_type": "code",
   "execution_count": null,
   "metadata": {},
   "outputs": [],
   "source": [
    "import numpy as np\n",
    "import pandas as pd\n",
    "import tensorflow as tf\n",
    "\n",
    "import matplotlib.pyplot as plt\n",
    "\n",
    "from keras.models import Sequential\n",
    "from keras.layers import SimpleRNN, Dense, Flatten\n",
    "\n",
    "tfd = tf.contrib.distributions\n",
    "tfb = tf.contrib.bayesflow"
   ]
  },
  {
   "cell_type": "code",
   "execution_count": 2,
   "metadata": {},
   "outputs": [],
   "source": [
    "sp500 = pd.read_csv('/Users/robertofiermonte/Downloads/all_stocks_5yr.csv')\n",
    "aapl = sp500[sp500['Name'] == 'AAPL']['open'].reset_index(drop=True)"
   ]
  },
  {
   "cell_type": "code",
   "execution_count": 3,
   "metadata": {},
   "outputs": [
    {
     "data": {
      "text/plain": [
       "[<matplotlib.lines.Line2D at 0x1172729e8>]"
      ]
     },
     "execution_count": 3,
     "metadata": {},
     "output_type": "execute_result"
    },
    {
     "data": {
      "image/png": "[encoded data removed]",
      "text/plain": [
       "<matplotlib.figure.Figure at 0x109dbee10>"
      ]
     },
     "metadata": {},
     "output_type": "display_data"
    }
   ],
   "source": [
    "tf.reset_default_graph()\n",
    "n_points = aapl.shape[0]\n",
    "look_forward = 10\n",
    "\n",
    "nested = pd.Series.from_array([aapl[idx:idx+look_forward + 1].reset_index(drop=True) for idx, val in aapl.items()])\n",
    "nested = nested[:n_points - look_forward]\n",
    "\n",
    "X = np.array(nested.apply(lambda x: x[:-1])) \n",
    "X = np.reshape(X, [X.shape[0], X.shape[1], 1])\n",
    "y = np.array(nested.apply(lambda x: x[10]))\n",
    "\n",
    "plt.plot(aapl)"
   ]
  },
  {
   "cell_type": "code",
   "execution_count": 4,
   "metadata": {},
   "outputs": [],
   "source": [
    "baseline = Sequential()\n",
    "baseline.add(SimpleRNN(100, return_sequences=False, input_shape=(look_forward, 1)))\n",
    "baseline.add(Dense(1))\n",
    "baseline.compile(loss='mean_squared_error', optimizer='adam')"
   ]
  },
  {
   "cell_type": "code",
   "execution_count": 15,
   "metadata": {},
   "outputs": [
    {
     "data": {
      "text/plain": [
       "<keras.callbacks.History at 0x11cee9048>"
      ]
     },
     "execution_count": 15,
     "metadata": {},
     "output_type": "execute_result"
    }
   ],
   "source": [
    "baseline.fit(X, y, epochs=50, batch_size=100, verbose=0)"
   ]
  },
  {
   "cell_type": "code",
   "execution_count": 16,
   "metadata": {},
   "outputs": [
    {
     "data": {
      "text/plain": [
       "[<matplotlib.lines.Line2D at 0x11d98fef0>]"
      ]
     },
     "execution_count": 16,
     "metadata": {},
     "output_type": "execute_result"
    },
    {
     "data": {
      "image/png": "[encoded data removed]",
      "text/plain": [
       "<matplotlib.figure.Figure at 0x11cec36d8>"
      ]
     },
     "metadata": {},
     "output_type": "display_data"
    }
   ],
   "source": [
    "y_hat = baseline.predict(X)\n",
    "plt.plot(y_hat)"
   ]
  },
  {
   "cell_type": "code",
   "execution_count": 17,
   "metadata": {},
   "outputs": [
    {
     "data": {
      "text/plain": [
       "[<matplotlib.lines.Line2D at 0x11daaec18>,\n",
       " <matplotlib.lines.Line2D at 0x11daaed68>,\n",
       " <matplotlib.lines.Line2D at 0x11dabc240>]"
      ]
     },
     "execution_count": 17,
     "metadata": {},
     "output_type": "execute_result"
    },
    {
     "data": {
      "image/png": "[encoded data removed]",
      "text/plain": [
       "<matplotlib.figure.Figure at 0x11d9f8470>"
      ]
     },
     "metadata": {},
     "output_type": "display_data"
    }
   ],
   "source": [
    "aapl_copy = aapl.copy()\n",
    "y_sampl = np.array([])\n",
    "y_sampl_ar = np.array([])\n",
    "\n",
    "for idx in range(X.shape[0]):\n",
    "    pred = baseline.predict(aapl[idx:idx + look_forward].values.reshape([1, look_forward, 1]))\n",
    "    y_sampl = np.append(y_sampl, pred)\n",
    "    pred_ar = baseline.predict(aapl_copy[idx:idx + look_forward].values.reshape([1, look_forward, 1]))\n",
    "    y_sampl_ar = np.append(y_sampl_ar, pred_ar)\n",
    "    if idx > 590:\n",
    "        aapl_copy[idx + look_forward] = pred_ar\n",
    "\n",
    "plt.plot(y_sampl, 'r-', y_sampl_ar, 'g', y, 'b')"
   ]
  },
  {
   "cell_type": "code",
   "execution_count": 162,
   "metadata": {
    "scrolled": false
   },
   "outputs": [
    {
     "ename": "ValueError",
     "evalue": "Cannot convert an unknown Dimension to a Tensor: ?",
     "output_type": "error",
     "traceback": [
      "\u001b[0;31m---------------------------------------------------------------------------\u001b[0m",
      "\u001b[0;31mValueError\u001b[0m                                Traceback (most recent call last)",
      "\u001b[0;32m~/anaconda3/envs/tensorflow_p36/lib/python3.6/site-packages/tensorflow/python/ops/array_ops.py\u001b[0m in \u001b[0;36mones\u001b[0;34m(shape, dtype, name)\u001b[0m\n\u001b[1;32m   1694\u001b[0m         shape = constant_op._tensor_shape_tensor_conversion_function(\n\u001b[0;32m-> 1695\u001b[0;31m             tensor_shape.TensorShape(shape))\n\u001b[0m\u001b[1;32m   1696\u001b[0m       \u001b[0;32mexcept\u001b[0m \u001b[0;34m(\u001b[0m\u001b[0mTypeError\u001b[0m\u001b[0;34m,\u001b[0m \u001b[0mValueError\u001b[0m\u001b[0;34m)\u001b[0m\u001b[0;34m:\u001b[0m\u001b[0;34m\u001b[0m\u001b[0m\n",
      "\u001b[0;32m~/anaconda3/envs/tensorflow_p36/lib/python3.6/site-packages/tensorflow/python/framework/constant_op.py\u001b[0m in \u001b[0;36m_tensor_shape_tensor_conversion_function\u001b[0;34m(s, dtype, name, as_ref)\u001b[0m\n\u001b[1;32m    255\u001b[0m     raise ValueError(\n\u001b[0;32m--> 256\u001b[0;31m         \"Cannot convert a partially known TensorShape to a Tensor: %s\" % s)\n\u001b[0m\u001b[1;32m    257\u001b[0m   \u001b[0ms_list\u001b[0m \u001b[0;34m=\u001b[0m \u001b[0ms\u001b[0m\u001b[0;34m.\u001b[0m\u001b[0mas_list\u001b[0m\u001b[0;34m(\u001b[0m\u001b[0;34m)\u001b[0m\u001b[0;34m\u001b[0m\u001b[0m\n",
      "\u001b[0;31mValueError\u001b[0m: Cannot convert a partially known TensorShape to a Tensor: (?,)",
      "\nDuring handling of the above exception, another exception occurred:\n",
      "\u001b[0;31mValueError\u001b[0m                                Traceback (most recent call last)",
      "\u001b[0;32m<ipython-input-162-ca433695f830>\u001b[0m in \u001b[0;36m<module>\u001b[0;34m()\u001b[0m\n\u001b[1;32m     26\u001b[0m \u001b[0mlatents\u001b[0m \u001b[0;34m=\u001b[0m \u001b[0mposterior\u001b[0m\u001b[0;34m.\u001b[0m\u001b[0msample\u001b[0m\u001b[0;34m(\u001b[0m\u001b[0;34m(\u001b[0m\u001b[0mn_samples\u001b[0m\u001b[0;34m)\u001b[0m\u001b[0;34m)\u001b[0m\u001b[0;34m\u001b[0m\u001b[0m\n\u001b[1;32m     27\u001b[0m \u001b[0;34m\u001b[0m\u001b[0m\n\u001b[0;32m---> 28\u001b[0;31m \u001b[0mp_generative\u001b[0m \u001b[0;34m=\u001b[0m \u001b[0mmake_generative\u001b[0m\u001b[0;34m(\u001b[0m\u001b[0mlatents\u001b[0m\u001b[0;34m)\u001b[0m\u001b[0;34m.\u001b[0m\u001b[0mlog_prob\u001b[0m\u001b[0;34m(\u001b[0m\u001b[0mx_\u001b[0m\u001b[0;34m)\u001b[0m\u001b[0;34m\u001b[0m\u001b[0m\n\u001b[0m\u001b[1;32m     29\u001b[0m \u001b[0mp_transition\u001b[0m \u001b[0;34m=\u001b[0m \u001b[0mmake_transitional\u001b[0m\u001b[0;34m(\u001b[0m\u001b[0mtf\u001b[0m\u001b[0;34m.\u001b[0m\u001b[0mreshape\u001b[0m\u001b[0;34m(\u001b[0m\u001b[0mlatents\u001b[0m\u001b[0;34m,\u001b[0m \u001b[0;34m[\u001b[0m\u001b[0;34m-\u001b[0m\u001b[0;36m1\u001b[0m\u001b[0;34m,\u001b[0m \u001b[0;36m10\u001b[0m\u001b[0;34m,\u001b[0m \u001b[0;36m1\u001b[0m\u001b[0;34m]\u001b[0m\u001b[0;34m)\u001b[0m\u001b[0;34m)\u001b[0m\u001b[0;34m.\u001b[0m\u001b[0mlog_prob\u001b[0m\u001b[0;34m(\u001b[0m\u001b[0mx_\u001b[0m\u001b[0;34m)\u001b[0m\u001b[0;34m\u001b[0m\u001b[0m\n\u001b[1;32m     30\u001b[0m \u001b[0mjoint\u001b[0m \u001b[0;34m=\u001b[0m \u001b[0mp_generative\u001b[0m \u001b[0;34m+\u001b[0m \u001b[0mp_transition\u001b[0m\u001b[0;34m\u001b[0m\u001b[0m\n",
      "\u001b[0;32m<ipython-input-162-ca433695f830>\u001b[0m in \u001b[0;36mmake_generative\u001b[0;34m(latents)\u001b[0m\n\u001b[1;32m      4\u001b[0m \u001b[0;34m\u001b[0m\u001b[0m\n\u001b[1;32m      5\u001b[0m \u001b[0;32mdef\u001b[0m \u001b[0mmake_generative\u001b[0m\u001b[0;34m(\u001b[0m\u001b[0mlatents\u001b[0m\u001b[0;34m)\u001b[0m\u001b[0;34m:\u001b[0m\u001b[0;34m\u001b[0m\u001b[0m\n\u001b[0;32m----> 6\u001b[0;31m     \u001b[0mvar\u001b[0m \u001b[0;34m=\u001b[0m \u001b[0mtf\u001b[0m\u001b[0;34m.\u001b[0m\u001b[0mVariable\u001b[0m\u001b[0;34m(\u001b[0m\u001b[0mtf\u001b[0m\u001b[0;34m.\u001b[0m\u001b[0mones\u001b[0m\u001b[0;34m(\u001b[0m\u001b[0mlatents\u001b[0m\u001b[0;34m.\u001b[0m\u001b[0mshape\u001b[0m\u001b[0;34m[\u001b[0m\u001b[0;36m1\u001b[0m\u001b[0;34m]\u001b[0m\u001b[0;34m)\u001b[0m\u001b[0;34m,\u001b[0m \u001b[0mname\u001b[0m\u001b[0;34m=\u001b[0m\u001b[0;34m'generative_var'\u001b[0m\u001b[0;34m)\u001b[0m\u001b[0;34m\u001b[0m\u001b[0m\n\u001b[0m\u001b[1;32m      7\u001b[0m     \u001b[0;32mreturn\u001b[0m \u001b[0mtdf\u001b[0m\u001b[0;34m.\u001b[0m\u001b[0mMultivariateNormalDiag\u001b[0m\u001b[0;34m(\u001b[0m\u001b[0mlatents\u001b[0m\u001b[0;34m,\u001b[0m \u001b[0mvar\u001b[0m\u001b[0;34m)\u001b[0m\u001b[0;34m\u001b[0m\u001b[0m\n\u001b[1;32m      8\u001b[0m \u001b[0;34m\u001b[0m\u001b[0m\n",
      "\u001b[0;32m~/anaconda3/envs/tensorflow_p36/lib/python3.6/site-packages/tensorflow/python/ops/array_ops.py\u001b[0m in \u001b[0;36mones\u001b[0;34m(shape, dtype, name)\u001b[0m\n\u001b[1;32m   1696\u001b[0m       \u001b[0;32mexcept\u001b[0m \u001b[0;34m(\u001b[0m\u001b[0mTypeError\u001b[0m\u001b[0;34m,\u001b[0m \u001b[0mValueError\u001b[0m\u001b[0;34m)\u001b[0m\u001b[0;34m:\u001b[0m\u001b[0;34m\u001b[0m\u001b[0m\n\u001b[1;32m   1697\u001b[0m         \u001b[0;31m# Happens when shape is a list with tensor elements\u001b[0m\u001b[0;34m\u001b[0m\u001b[0;34m\u001b[0m\u001b[0m\n\u001b[0;32m-> 1698\u001b[0;31m         \u001b[0mshape\u001b[0m \u001b[0;34m=\u001b[0m \u001b[0mops\u001b[0m\u001b[0;34m.\u001b[0m\u001b[0mconvert_to_tensor\u001b[0m\u001b[0;34m(\u001b[0m\u001b[0mshape\u001b[0m\u001b[0;34m,\u001b[0m \u001b[0mdtype\u001b[0m\u001b[0;34m=\u001b[0m\u001b[0mdtypes\u001b[0m\u001b[0;34m.\u001b[0m\u001b[0mint32\u001b[0m\u001b[0;34m)\u001b[0m\u001b[0;34m\u001b[0m\u001b[0m\n\u001b[0m\u001b[1;32m   1699\u001b[0m     \u001b[0;32mif\u001b[0m \u001b[0;32mnot\u001b[0m \u001b[0mshape\u001b[0m\u001b[0;34m.\u001b[0m\u001b[0m_shape_tuple\u001b[0m\u001b[0;34m(\u001b[0m\u001b[0;34m)\u001b[0m\u001b[0;34m:\u001b[0m\u001b[0;34m\u001b[0m\u001b[0m\n\u001b[1;32m   1700\u001b[0m       \u001b[0mshape\u001b[0m \u001b[0;34m=\u001b[0m \u001b[0mreshape\u001b[0m\u001b[0;34m(\u001b[0m\u001b[0mshape\u001b[0m\u001b[0;34m,\u001b[0m \u001b[0;34m[\u001b[0m\u001b[0;34m-\u001b[0m\u001b[0;36m1\u001b[0m\u001b[0;34m]\u001b[0m\u001b[0;34m)\u001b[0m  \u001b[0;31m# Ensure it's a vector\u001b[0m\u001b[0;34m\u001b[0m\u001b[0m\n",
      "\u001b[0;32m~/anaconda3/envs/tensorflow_p36/lib/python3.6/site-packages/tensorflow/python/framework/ops.py\u001b[0m in \u001b[0;36mconvert_to_tensor\u001b[0;34m(value, dtype, name, preferred_dtype)\u001b[0m\n\u001b[1;32m    944\u001b[0m       \u001b[0mname\u001b[0m\u001b[0;34m=\u001b[0m\u001b[0mname\u001b[0m\u001b[0;34m,\u001b[0m\u001b[0;34m\u001b[0m\u001b[0m\n\u001b[1;32m    945\u001b[0m       \u001b[0mpreferred_dtype\u001b[0m\u001b[0;34m=\u001b[0m\u001b[0mpreferred_dtype\u001b[0m\u001b[0;34m,\u001b[0m\u001b[0;34m\u001b[0m\u001b[0m\n\u001b[0;32m--> 946\u001b[0;31m       as_ref=False)\n\u001b[0m\u001b[1;32m    947\u001b[0m \u001b[0;34m\u001b[0m\u001b[0m\n\u001b[1;32m    948\u001b[0m \u001b[0;34m\u001b[0m\u001b[0m\n",
      "\u001b[0;32m~/anaconda3/envs/tensorflow_p36/lib/python3.6/site-packages/tensorflow/python/framework/ops.py\u001b[0m in \u001b[0;36minternal_convert_to_tensor\u001b[0;34m(value, dtype, name, as_ref, preferred_dtype, ctx)\u001b[0m\n\u001b[1;32m   1034\u001b[0m \u001b[0;34m\u001b[0m\u001b[0m\n\u001b[1;32m   1035\u001b[0m     \u001b[0;32mif\u001b[0m \u001b[0mret\u001b[0m \u001b[0;32mis\u001b[0m \u001b[0;32mNone\u001b[0m\u001b[0;34m:\u001b[0m\u001b[0;34m\u001b[0m\u001b[0m\n\u001b[0;32m-> 1036\u001b[0;31m       \u001b[0mret\u001b[0m \u001b[0;34m=\u001b[0m \u001b[0mconversion_func\u001b[0m\u001b[0;34m(\u001b[0m\u001b[0mvalue\u001b[0m\u001b[0;34m,\u001b[0m \u001b[0mdtype\u001b[0m\u001b[0;34m=\u001b[0m\u001b[0mdtype\u001b[0m\u001b[0;34m,\u001b[0m \u001b[0mname\u001b[0m\u001b[0;34m=\u001b[0m\u001b[0mname\u001b[0m\u001b[0;34m,\u001b[0m \u001b[0mas_ref\u001b[0m\u001b[0;34m=\u001b[0m\u001b[0mas_ref\u001b[0m\u001b[0;34m)\u001b[0m\u001b[0;34m\u001b[0m\u001b[0m\n\u001b[0m\u001b[1;32m   1037\u001b[0m \u001b[0;34m\u001b[0m\u001b[0m\n\u001b[1;32m   1038\u001b[0m     \u001b[0;32mif\u001b[0m \u001b[0mret\u001b[0m \u001b[0;32mis\u001b[0m \u001b[0mNotImplemented\u001b[0m\u001b[0;34m:\u001b[0m\u001b[0;34m\u001b[0m\u001b[0m\n",
      "\u001b[0;32m~/anaconda3/envs/tensorflow_p36/lib/python3.6/site-packages/tensorflow/python/framework/constant_op.py\u001b[0m in \u001b[0;36m_dimension_tensor_conversion_function\u001b[0;34m(d, dtype, name, as_ref)\u001b[0m\n\u001b[1;32m    286\u001b[0m   \u001b[0m_\u001b[0m \u001b[0;34m=\u001b[0m \u001b[0mas_ref\u001b[0m\u001b[0;34m\u001b[0m\u001b[0m\n\u001b[1;32m    287\u001b[0m   \u001b[0;32mif\u001b[0m \u001b[0md\u001b[0m\u001b[0;34m.\u001b[0m\u001b[0mvalue\u001b[0m \u001b[0;32mis\u001b[0m \u001b[0;32mNone\u001b[0m\u001b[0;34m:\u001b[0m\u001b[0;34m\u001b[0m\u001b[0m\n\u001b[0;32m--> 288\u001b[0;31m     \u001b[0;32mraise\u001b[0m \u001b[0mValueError\u001b[0m\u001b[0;34m(\u001b[0m\u001b[0;34m\"Cannot convert an unknown Dimension to a Tensor: %s\"\u001b[0m \u001b[0;34m%\u001b[0m \u001b[0md\u001b[0m\u001b[0;34m)\u001b[0m\u001b[0;34m\u001b[0m\u001b[0m\n\u001b[0m\u001b[1;32m    289\u001b[0m   \u001b[0;32mif\u001b[0m \u001b[0mdtype\u001b[0m \u001b[0;32mis\u001b[0m \u001b[0;32mnot\u001b[0m \u001b[0;32mNone\u001b[0m\u001b[0;34m:\u001b[0m\u001b[0;34m\u001b[0m\u001b[0m\n\u001b[1;32m    290\u001b[0m     \u001b[0;32mif\u001b[0m \u001b[0mdtype\u001b[0m \u001b[0;32mnot\u001b[0m \u001b[0;32min\u001b[0m \u001b[0;34m(\u001b[0m\u001b[0mdtypes\u001b[0m\u001b[0;34m.\u001b[0m\u001b[0mint32\u001b[0m\u001b[0;34m,\u001b[0m \u001b[0mdtypes\u001b[0m\u001b[0;34m.\u001b[0m\u001b[0mint64\u001b[0m\u001b[0;34m)\u001b[0m\u001b[0;34m:\u001b[0m\u001b[0;34m\u001b[0m\u001b[0m\n",
      "\u001b[0;31mValueError\u001b[0m: Cannot convert an unknown Dimension to a Tensor: ?"
     ]
    }
   ],
   "source": [
    "def make_posterior(data):\n",
    "#     var = tf.Variable(tf.ones(data.shape[1]), name='posterior_var')\n",
    "#     return tfd.MultivariateNormalDiag(data, tf.nn.softplus(var))\n",
    "    mean = tf.layers.dense(data, 1, n)\n",
    "    stddev = tf.nn.softplus(tf.get_variable('posterior_std'))\n",
    "    return tfd.Independent(tfd.Normal(mean, stddev), 1)\n",
    "\n",
    "def make_generative(latents):\n",
    "    mean = tf.layers.dense(latents, 1)\n",
    "    stddev = tf.nn.softplus(tf.get_variable('generative_std'))  \n",
    "#     var = tf.Variable(tf.ones(latents.shape[1]), name='generative_var')\n",
    "#     return tfd.MultivariateNormalDiag(latents, tf.nn.softplus(var))\n",
    "    return tfd.Independent(tfd.Normal(mean, stddev), 1)\n",
    "\n",
    "def make_transitional(latents):\n",
    "#     out, hid = tf.nn.dynamic_rnn(tf.contrib.rnn.GRUBlockCell(100), latents, dtype=tf.float32)\n",
    "#     m = tf.Variable(tf.random_normal([100, 1]), name='transitional_mean')\n",
    "#     v = tf.Variable(tf.random_normal([100, 1]), name='transitional_var')\n",
    "    \n",
    "#     return tfd.MultivariateNormalDiag(tf.squeeze(tf.tensordot(out, m, axes=1), -1), \n",
    "#                                      tf.squeeze(tf.nn.softplus(tf.tensordot(out, v, axes=1))), -1)\n",
    "\n",
    "    _, hid = tf.nn.dynamic_rnn(tf.contrib.rnn.GRUBlockCell(100), latents[:, -1], dtype=tf.float32)\n",
    "    mean = tf.layers.dense(hid, 1)\n",
    "    stddev = tf.layers.dense(hid, 1, tf.nn.softplus)\n",
    "    return tfd.Independent(tfd.Normal(mean, stddev), 1)\n",
    "    \n",
    "tf.reset_default_graph()\n",
    "\n",
    "n_samples = 10\n",
    "\n",
    "x_ = tf.placeholder(tf.float32, [None, 10])\n",
    "y_ = tf.placeholder(tf.float32, [None, 1])\n",
    "\n",
    "posterior = make_posterior(x_)\n",
    "\n",
    "latents = posterior.sample((n_samples))\n",
    "\n",
    "p_generative = make_generative(latents).log_prob(x_)\n",
    "p_transition = make_transitional(tf.reshape(latents, [-1, 10, 1])).log_prob(x_)\n",
    "joint = p_generative + p_transition\n",
    "entropy = posterior.entropy()\n",
    "\n",
    "free_energy = tf.reduce_sum(joint + entropy)\n",
    "\n",
    "update = tf.train.AdamOptimizer(0.001).minimize(-free_energy)"
   ]
  },
  {
   "cell_type": "code",
   "execution_count": 158,
   "metadata": {
    "scrolled": false
   },
   "outputs": [
    {
     "name": "stdout",
     "output_type": "stream",
     "text": [
      "INFO:tensorflow:Graph was finalized.\n",
      "INFO:tensorflow:Running local_init_op.\n",
      "INFO:tensorflow:Done running local_init_op.\n",
      "Epoch 0 free energy -63654170.0\n",
      "Epoch 1 free energy -24088796.0\n",
      "Epoch 2 free energy -24755.436\n",
      "Epoch 3 free energy -23094.729\n",
      "Epoch 4 free energy -22798.45\n",
      "Epoch 5 free energy -22487.193\n",
      "Epoch 6 free energy -22253.266\n",
      "Epoch 7 free energy -22088.84\n",
      "Epoch 8 free energy -22073.512\n",
      "Epoch 9 free energy -21005.717\n",
      "Epoch 10 free energy -20948.055\n",
      "Epoch 11 free energy -20958.781\n",
      "Epoch 12 free energy -20688.264\n",
      "Epoch 13 free energy -20736.152\n",
      "Epoch 14 free energy -20694.818\n",
      "Epoch 15 free energy -20747.63\n",
      "Epoch 16 free energy -20690.906\n",
      "Epoch 17 free energy -20669.66\n",
      "Epoch 18 free energy -20649.885\n",
      "Epoch 19 free energy -20613.96\n",
      "Epoch 20 free energy -20467.756\n",
      "Epoch 21 free energy -20551.547\n",
      "Epoch 22 free energy -20554.332\n",
      "Epoch 23 free energy -20539.416\n",
      "Epoch 24 free energy -20505.473\n",
      "Epoch 25 free energy -20567.174\n",
      "Epoch 26 free energy -20500.15\n",
      "Epoch 27 free energy -20420.16\n",
      "Epoch 28 free energy -20422.596\n",
      "Epoch 29 free energy -20406.475\n",
      "Epoch 30 free energy -20385.969\n",
      "Epoch 31 free energy -20284.186\n",
      "Epoch 32 free energy -20279.49\n",
      "Epoch 33 free energy -20191.176\n",
      "Epoch 34 free energy -20252.68\n",
      "Epoch 35 free energy -20292.455\n",
      "Epoch 36 free energy -20165.826\n",
      "Epoch 37 free energy -20129.19\n",
      "Epoch 38 free energy -20134.715\n",
      "Epoch 39 free energy -20155.98\n",
      "Epoch 40 free energy -20077.123\n",
      "Epoch 41 free energy -20107.14\n",
      "Epoch 42 free energy -20127.477\n",
      "Epoch 43 free energy -20169.873\n",
      "Epoch 44 free energy -20088.361\n",
      "Epoch 45 free energy -20144.303\n",
      "Epoch 46 free energy -20085.75\n",
      "Epoch 47 free energy -20073.982\n",
      "Epoch 48 free energy -20081.191\n",
      "Epoch 49 free energy -20028.314\n"
     ]
    }
   ],
   "source": [
    "X_train = np.squeeze(X[:900], -1)\n",
    "X_test = np.squeeze(X[900:], -1)\n",
    "\n",
    "with tf.train.MonitoredSession() as sess:\n",
    "    for epoch in range(50):\n",
    "        test_free_energy = sess.run(free_energy, {x_: X_test})\n",
    "        print('Epoch', epoch, 'free energy', test_free_energy)\n",
    "        for _ in range(100):\n",
    "            batch_indices = np.random.choice(len(X_train), 10)\n",
    "            batch = np.array([X_train[ind] for ind in batch_indices])\n",
    "            \n",
    "            sess.run(update, {x_: batch})"
   ]
  }
 ],
 "metadata": {
  "kernelspec": {
   "display_name": "Python [conda env:tensorflow_p36]",
   "language": "python",
   "name": "conda-env-tensorflow_p36-py"
  },
  "language_info": {
   "codemirror_mode": {
    "name": "ipython",
    "version": 3
   },
   "file_extension": ".py",
   "mimetype": "text/x-python",
   "name": "python",
   "nbconvert_exporter": "python",
   "pygments_lexer": "ipython3",
   "version": "3.6.4"
  }
 },
 "nbformat": 4,
 "nbformat_minor": 2
}
